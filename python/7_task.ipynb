{
  "nbformat": 4,
  "nbformat_minor": 5,
  "metadata": {
    "kernelspec": {
      "display_name": "Python 3",
      "language": "python",
      "name": "python3"
    },
    "language_info": {
      "codemirror_mode": {
        "name": "ipython",
        "version": 3
      },
      "file_extension": ".py",
      "mimetype": "text/x-python",
      "name": "python",
      "nbconvert_exporter": "python",
      "pygments_lexer": "ipython3",
      "version": "3.9.7"
    },
    "colab": {
      "name": "7_task.ipynb",
      "provenance": []
    }
  },
  "cells": [
    {
      "cell_type": "markdown",
      "metadata": {
        "id": "d89e88d8"
      },
      "source": [
        "# Самостоятельное задание #7\n",
        "\n",
        "\n",
        "### Задание 1\n",
        "\n",
        "Допишите функцию, которая принимает список чисел и, с помощью множеств, определяет количество различных чисел внутри списка."
      ],
      "id": "d89e88d8"
    },
    {
      "cell_type": "code",
      "metadata": {
        "colab": {
          "base_uri": "https://localhost:8080/"
        },
        "id": "1b443f02",
        "outputId": "d167bf0b-1f11-4a25-d1ed-40ac5dd4847c"
      },
      "source": [
        "chisla = [1, 2, 3, 1, 2, 3, 1, 2, 3, 5, 5, 5]\n",
        "bruh = [] \n",
        "bruh.append(chisla[0])\n",
        " \n",
        "for i in chisla:\n",
        "    if chisla[0] is not i+1 and i not in bruh:\n",
        "        bruh.append(i)\n",
        " \n",
        "print('Количество различных чисел: ', len(bruh))"
      ],
      "id": "1b443f02",
      "execution_count": 4,
      "outputs": [
        {
          "output_type": "stream",
          "name": "stdout",
          "text": [
            "Количество различных чисел:  4\n"
          ]
        }
      ]
    },
    {
      "cell_type": "markdown",
      "metadata": {
        "id": "89118666"
      },
      "source": [
        "### Задание 2\n",
        "\n",
        "Допишите функцию, которая принимает несколько списков чисел и, с помощью множеств, определяет количество общих чисел из первого и второго списка."
      ],
      "id": "89118666"
    },
    {
      "cell_type": "code",
      "metadata": {
        "colab": {
          "base_uri": "https://localhost:8080/"
        },
        "id": "9ad5e3fd",
        "outputId": "2d2605aa-f5ad-49a1-e628-8dabfc67eea7"
      },
      "source": [
        "chisla1=[1,2,3,4,5,6,7,8,9,10,11]\n",
        "chisla2=[1,2,3,4,5,6,7,8,9,10]\n",
        "bruh=[]\n",
        "for i in range (0,len(chisla)-2):\n",
        "  if chisla1[i] in chisla2:\n",
        "    bruh.append(i)\n",
        "    while chisla[i] in chisla2:\n",
        "        chisla2.remove(chisla[i])\n",
        "print(len(bruh))"
      ],
      "id": "9ad5e3fd",
      "execution_count": 17,
      "outputs": [
        {
          "output_type": "stream",
          "name": "stdout",
          "text": [
            "10\n"
          ]
        }
      ]
    },
    {
      "cell_type": "code",
      "metadata": {
        "id": "hVRIJF8x-rc6"
      },
      "source": [
        ""
      ],
      "id": "hVRIJF8x-rc6",
      "execution_count": null,
      "outputs": []
    }
  ]
}