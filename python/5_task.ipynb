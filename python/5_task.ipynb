{
  "nbformat": 4,
  "nbformat_minor": 5,
  "metadata": {
    "kernelspec": {
      "display_name": "Python 3",
      "language": "python",
      "name": "python3"
    },
    "language_info": {
      "codemirror_mode": {
        "name": "ipython",
        "version": 3
      },
      "file_extension": ".py",
      "mimetype": "text/x-python",
      "name": "python",
      "nbconvert_exporter": "python",
      "pygments_lexer": "ipython3",
      "version": "3.9.7"
    },
    "colab": {
      "name": "5_task.ipynb",
      "provenance": []
    }
  },
  "cells": [
    {
      "cell_type": "markdown",
      "metadata": {
        "id": "85755de8"
      },
      "source": [
        "# Самостоятельное задание #5\n",
        "\n",
        "\n",
        "### Задание 1\n",
        "\n",
        "Допишите функцию, которая принимает список, выбирает из него все элементы с четным индексом и возвращает их в виде списка."
      ],
      "id": "85755de8"
    },
    {
      "cell_type": "code",
      "metadata": {
        "colab": {
          "base_uri": "https://localhost:8080/"
        },
        "id": "6ef6d9b3",
        "outputId": "b22a1894-da10-4b9b-e3da-c9800d08fe4b"
      },
      "source": [
        "def jopa(a):\n",
        "  s=''\n",
        "  for i in range (0, len(a)):\n",
        "    if i%2 == 1:\n",
        "      s+=str(a[i])\n",
        "  return s\n",
        "spisok = [1,2,3,4,5,6,7]\n",
        "print(jopa(spisok))\n",
        "\n"
      ],
      "id": "6ef6d9b3",
      "execution_count": 9,
      "outputs": [
        {
          "output_type": "stream",
          "name": "stdout",
          "text": [
            "246\n"
          ]
        }
      ]
    },
    {
      "cell_type": "markdown",
      "metadata": {
        "id": "443974c9"
      },
      "source": [
        "### Задание 2\n",
        "\n",
        "Допишите функцию, которая принимает список, выбирает из него все элементы, которые больше предыдущего и возвращает их в виде списка.\n"
      ],
      "id": "443974c9"
    },
    {
      "cell_type": "code",
      "metadata": {
        "colab": {
          "base_uri": "https://localhost:8080/"
        },
        "id": "3a8cf925",
        "outputId": "e3475c34-1053-4c49-c7e1-d1c988b00ce3"
      },
      "source": [
        "def o4ko(a):\n",
        "  s=''\n",
        "  for i in range (0, len(a)):\n",
        "    if a[i]>a[i-1]:\n",
        "     s+=' ' + str((a[i]))\n",
        "  return s\n",
        "array=[1,1,3,4,29,6,7,8,923423,10]\n",
        "print(o4ko(array))"
      ],
      "id": "3a8cf925",
      "execution_count": 16,
      "outputs": [
        {
          "output_type": "stream",
          "name": "stdout",
          "text": [
            " 3 4 29 7 8 923423\n"
          ]
        }
      ]
    },
    {
      "cell_type": "markdown",
      "metadata": {
        "id": "34524ede"
      },
      "source": [
        "### Задание 3\n",
        "\n",
        "Допишите функцию, которая принимает список, меняет местами наибольший и наименьший элементы и возвращает этот список."
      ],
      "id": "34524ede"
    },
    {
      "cell_type": "code",
      "metadata": {
        "colab": {
          "base_uri": "https://localhost:8080/"
        },
        "id": "34d2beae",
        "outputId": "292a9d85-67ec-4ba4-b558-be10d5209c85"
      },
      "source": [
        "def lmao(a):\n",
        "    f = min(a)\n",
        "    d = max(a)\n",
        "    k = 0 \n",
        "    m = 0 \n",
        "    for i in range(len(a)):\n",
        "        if a[i] ==f:\n",
        "            k = i\n",
        "        elif a[i] ==d:\n",
        "            m = i\n",
        "    a[k] = d\n",
        "    a[m] = f\n",
        "    return a\n",
        "a = [1,234,3,4,5,6,4,5,14,3,2]\n",
        "print(lmao(a))\n",
        "  \n",
        "  \n"
      ],
      "id": "34d2beae",
      "execution_count": 41,
      "outputs": [
        {
          "output_type": "stream",
          "name": "stdout",
          "text": [
            "[234, 1, 3, 4, 5, 6, 4, 5, 14, 3, 2]\n"
          ]
        }
      ]
    },
    {
      "cell_type": "code",
      "metadata": {
        "id": "W3a9aGJ7_bA7"
      },
      "source": [
        ""
      ],
      "id": "W3a9aGJ7_bA7",
      "execution_count": null,
      "outputs": []
    }
  ]
}