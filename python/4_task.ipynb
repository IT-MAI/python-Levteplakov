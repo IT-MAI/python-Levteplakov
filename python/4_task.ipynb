{
  "nbformat": 4,
  "nbformat_minor": 5,
  "metadata": {
    "kernelspec": {
      "display_name": "Python 3",
      "language": "python",
      "name": "python3"
    },
    "language_info": {
      "codemirror_mode": {
        "name": "ipython",
        "version": 3
      },
      "file_extension": ".py",
      "mimetype": "text/x-python",
      "name": "python",
      "nbconvert_exporter": "python",
      "pygments_lexer": "ipython3",
      "version": "3.9.7"
    },
    "colab": {
      "name": "4_task.ipynb",
      "provenance": []
    }
  },
  "cells": [
    {
      "cell_type": "markdown",
      "metadata": {
        "id": "515e798f"
      },
      "source": [
        "# Самостоятельное задание #4\n",
        "\n",
        "\n",
        "Дана строка: Lambdadambda\n",
        "    \n",
        "**Вывести третий символ этой строки.**"
      ],
      "id": "515e798f"
    },
    {
      "cell_type": "code",
      "metadata": {
        "colab": {
          "base_uri": "https://localhost:8080/"
        },
        "id": "6fb0097c",
        "outputId": "b392fb6d-50ba-4982-f982-59fc9b94f8fb"
      },
      "source": [
        "row = \"Lambdadambda\"\n",
        "print(row[2])"
      ],
      "id": "6fb0097c",
      "execution_count": 3,
      "outputs": [
        {
          "output_type": "stream",
          "name": "stdout",
          "text": [
            "m\n"
          ]
        }
      ]
    },
    {
      "cell_type": "code",
      "metadata": {
        "id": "7e563ce5"
      },
      "source": [
        ""
      ],
      "id": "7e563ce5",
      "execution_count": null,
      "outputs": []
    },
    {
      "cell_type": "markdown",
      "metadata": {
        "id": "ea010c5d"
      },
      "source": [
        "**Вывести предпоследний символ этой строки.**"
      ],
      "id": "ea010c5d"
    },
    {
      "cell_type": "code",
      "metadata": {
        "colab": {
          "base_uri": "https://localhost:8080/"
        },
        "id": "31b0d3ed",
        "outputId": "cca74b7b-a259-4ec1-af58-1aab079cf5fc"
      },
      "source": [
        "row = \"Lambdadambda\"\n",
        "print(row[10])"
      ],
      "id": "31b0d3ed",
      "execution_count": 4,
      "outputs": [
        {
          "output_type": "stream",
          "name": "stdout",
          "text": [
            "d\n"
          ]
        }
      ]
    },
    {
      "cell_type": "markdown",
      "metadata": {
        "id": "e4e84e54"
      },
      "source": [
        "**Вывести первые пять символов этой строки.**"
      ],
      "id": "e4e84e54"
    },
    {
      "cell_type": "code",
      "metadata": {
        "colab": {
          "base_uri": "https://localhost:8080/"
        },
        "id": "7e311943",
        "outputId": "c235430c-990d-440d-b11a-75cc11da78bf"
      },
      "source": [
        "row = \"Lambdadambda\"\n",
        "for i in range (0,5):\n",
        "    print(row[i]) "
      ],
      "id": "7e311943",
      "execution_count": 12,
      "outputs": [
        {
          "output_type": "stream",
          "name": "stdout",
          "text": [
            "L\n",
            "a\n",
            "m\n",
            "b\n",
            "d\n"
          ]
        }
      ]
    },
    {
      "cell_type": "markdown",
      "metadata": {
        "id": "f6a3ba9c"
      },
      "source": [
        "**Вывести строку, кроме последних двух символов.**"
      ],
      "id": "f6a3ba9c"
    },
    {
      "cell_type": "code",
      "metadata": {
        "colab": {
          "base_uri": "https://localhost:8080/"
        },
        "id": "e73c0b48",
        "outputId": "b0f43e1a-742f-481c-c88f-d92fed332efa"
      },
      "source": [
        "row = \"Lambdadambda\"\n",
        "for i in range (0,10):\n",
        "  print(row[i])"
      ],
      "id": "e73c0b48",
      "execution_count": 17,
      "outputs": [
        {
          "output_type": "stream",
          "name": "stdout",
          "text": [
            "L\n",
            "a\n",
            "m\n",
            "b\n",
            "d\n",
            "a\n",
            "d\n",
            "a\n",
            "m\n",
            "b\n"
          ]
        }
      ]
    },
    {
      "cell_type": "markdown",
      "metadata": {
        "id": "0a4dfd22"
      },
      "source": [
        "**Вывести все символы с четными индексами (считайте, что 0 - четный индекс).**"
      ],
      "id": "0a4dfd22"
    },
    {
      "cell_type": "code",
      "metadata": {
        "colab": {
          "base_uri": "https://localhost:8080/"
        },
        "id": "c2562333",
        "outputId": "bd7a7b09-87c2-4862-c242-d0560fe22337"
      },
      "source": [
        "row = \"Lambdadambda\"\n",
        "for i in range (0,12):\n",
        "  if i%2 == 0:\n",
        "    print(row[i])"
      ],
      "id": "c2562333",
      "execution_count": 20,
      "outputs": [
        {
          "output_type": "stream",
          "name": "stdout",
          "text": [
            "L\n",
            "m\n",
            "d\n",
            "d\n",
            "m\n",
            "d\n"
          ]
        }
      ]
    },
    {
      "cell_type": "markdown",
      "metadata": {
        "id": "d692f8e4"
      },
      "source": [
        "**Вывести все символы с нечетными индексами.**"
      ],
      "id": "d692f8e4"
    },
    {
      "cell_type": "code",
      "metadata": {
        "colab": {
          "base_uri": "https://localhost:8080/"
        },
        "id": "4ee4c0c7",
        "outputId": "eacf3b82-fd96-4dd6-ce53-61c756af237f"
      },
      "source": [
        "row = \"Lambdadambda\"\n",
        "for i in range(len(row)):\n",
        "    if i % 2 != 0:\n",
        "        print(row[i])"
      ],
      "id": "4ee4c0c7",
      "execution_count": 21,
      "outputs": [
        {
          "output_type": "stream",
          "name": "stdout",
          "text": [
            "a\n",
            "b\n",
            "a\n",
            "a\n",
            "b\n",
            "a\n"
          ]
        }
      ]
    },
    {
      "cell_type": "markdown",
      "metadata": {
        "id": "dc19a22d"
      },
      "source": [
        "**Вывести все символы в обратном порядке.**"
      ],
      "id": "dc19a22d"
    },
    {
      "cell_type": "code",
      "metadata": {
        "colab": {
          "base_uri": "https://localhost:8080/"
        },
        "id": "b791ac60",
        "outputId": "f7e0136c-7ab4-4c39-fcd2-395741ffc11a"
      },
      "source": [
        "row = \"Lambdadambda\"\n",
        "print(row[::-1])"
      ],
      "id": "b791ac60",
      "execution_count": 22,
      "outputs": [
        {
          "output_type": "stream",
          "name": "stdout",
          "text": [
            "adbmadadbmaL\n"
          ]
        }
      ]
    },
    {
      "cell_type": "markdown",
      "metadata": {
        "id": "ddcab1ad"
      },
      "source": [
        "**Вывести все символы строки через один в обратном порядке, начиная с последнего.**"
      ],
      "id": "ddcab1ad"
    },
    {
      "cell_type": "code",
      "metadata": {
        "colab": {
          "base_uri": "https://localhost:8080/"
        },
        "id": "29f2787d",
        "outputId": "79f4291f-7829-475c-99d5-df6566700963"
      },
      "source": [
        "row = \"Lambdadambda\" \n",
        "r = row[::-1] \n",
        "for i in range(len(r)):\n",
        "    if i % 2 == 0:\n",
        "        print(r[i])"
      ],
      "id": "29f2787d",
      "execution_count": 23,
      "outputs": [
        {
          "output_type": "stream",
          "name": "stdout",
          "text": [
            "a\n",
            "b\n",
            "a\n",
            "a\n",
            "b\n",
            "a\n"
          ]
        }
      ]
    },
    {
      "cell_type": "markdown",
      "metadata": {
        "id": "1c732041"
      },
      "source": [
        "**Вывести длину данной строки.**"
      ],
      "id": "1c732041"
    },
    {
      "cell_type": "code",
      "metadata": {
        "colab": {
          "base_uri": "https://localhost:8080/"
        },
        "id": "fd2fb86c",
        "outputId": "fadc9903-f7e0-4350-e69b-d23b42ff6eb0"
      },
      "source": [
        "row = \"Lambdadambda\"\n",
        "print(len(row))"
      ],
      "id": "fd2fb86c",
      "execution_count": 24,
      "outputs": [
        {
          "output_type": "stream",
          "name": "stdout",
          "text": [
            "12\n"
          ]
        }
      ]
    },
    {
      "cell_type": "code",
      "metadata": {
        "id": "UwqCNam56MV6"
      },
      "source": [
        ""
      ],
      "id": "UwqCNam56MV6",
      "execution_count": null,
      "outputs": []
    }
  ]
}