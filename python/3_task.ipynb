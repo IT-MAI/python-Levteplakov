{
  "nbformat": 4,
  "nbformat_minor": 5,
  "metadata": {
    "kernelspec": {
      "display_name": "Python 3",
      "language": "python",
      "name": "python3"
    },
    "language_info": {
      "codemirror_mode": {
        "name": "ipython",
        "version": 3
      },
      "file_extension": ".py",
      "mimetype": "text/x-python",
      "name": "python",
      "nbconvert_exporter": "python",
      "pygments_lexer": "ipython3",
      "version": "3.9.7"
    },
    "colab": {
      "name": "3_task.ipynb",
      "provenance": []
    }
  },
  "cells": [
    {
      "cell_type": "markdown",
      "metadata": {
        "id": "657be689"
      },
      "source": [
        "# Самостоятельное задание #3\n",
        "\n",
        "\n",
        "### Задание 1\n",
        "\n",
        "Допишите функцию, которая принимает массив из 10 чисел и возвращает их сумму."
      ],
      "id": "657be689"
    },
    {
      "cell_type": "code",
      "metadata": {
        "colab": {
          "base_uri": "https://localhost:8080/"
        },
        "id": "18ffcbab",
        "outputId": "dc2c8a1c-9845-42a8-eb9a-a4394f9866ca"
      },
      "source": [
        "mas = [1, 2, 3, 4, 5, 6, 7, 8, 9, 10]\n",
        " \n",
        "res = 0\n",
        " \n",
        "for i in mas:\n",
        "    res += i\n",
        " \n",
        "print (res)"
      ],
      "id": "18ffcbab",
      "execution_count": 18,
      "outputs": [
        {
          "output_type": "stream",
          "name": "stdout",
          "text": [
            "55\n"
          ]
        }
      ]
    },
    {
      "cell_type": "markdown",
      "metadata": {
        "id": "eb78afc0"
      },
      "source": [
        "\n",
        "### Задание 2\n",
        "\n",
        "Допишите функцию, которая принимает массив чисел и возвращает количество чисел равных нулю."
      ],
      "id": "eb78afc0"
    },
    {
      "cell_type": "code",
      "metadata": {
        "colab": {
          "base_uri": "https://localhost:8080/"
        },
        "id": "7e8fe536",
        "outputId": "a18a5ea9-ebae-4f5c-f920-9cb68d54468f"
      },
      "source": [
        "mas = [1,2,3,4,0,0,2,0,0,10]\n",
        "res = 0\n",
        "for i in mas:\n",
        "  if i==0:\n",
        "    res+=1 \n",
        "print (res)"
      ],
      "id": "7e8fe536",
      "execution_count": 23,
      "outputs": [
        {
          "output_type": "stream",
          "name": "stdout",
          "text": [
            "4\n"
          ]
        }
      ]
    },
    {
      "cell_type": "markdown",
      "metadata": {
        "id": "570d5a26"
      },
      "source": [
        "\n",
        "### Задание 3\n",
        "\n",
        "Напишите программу, в которой задается  натуральное число n и выводится лестница из n ступенек, i-я ступенька должна состоять из чисел от 1 до i без пробелов."
      ],
      "id": "570d5a26"
    },
    {
      "cell_type": "code",
      "metadata": {
        "colab": {
          "base_uri": "https://localhost:8080/"
        },
        "id": "69fd0501",
        "outputId": "36148241-c784-468f-8549-802cc48b8c38"
      },
      "source": [
        "n=int(input())\n",
        "for i in range (1, n+1):\n",
        "  print(''.join([str(x) for x in range (1,i+1)]))"
      ],
      "id": "69fd0501",
      "execution_count": 27,
      "outputs": [
        {
          "output_type": "stream",
          "name": "stdout",
          "text": [
            "10\n",
            "1\n",
            "12\n",
            "123\n",
            "1234\n",
            "12345\n",
            "123456\n",
            "1234567\n",
            "12345678\n",
            "123456789\n",
            "12345678910\n"
          ]
        }
      ]
    },
    {
      "cell_type": "markdown",
      "metadata": {
        "id": "b6ef1c44"
      },
      "source": [
        "\n",
        "### Задание 4\n",
        "\n",
        "Напишите программу, в которой задается натуральное число n и выводится пирамида из n ступенек, i-я ступень должна состоять из чисел от 1 до i и обратно без пробелов."
      ],
      "id": "b6ef1c44"
    },
    {
      "cell_type": "code",
      "metadata": {
        "colab": {
          "base_uri": "https://localhost:8080/"
        },
        "id": "6b038f87",
        "outputId": "a8a740dc-77be-4cb9-dab3-c73804acc5c3"
      },
      "source": [
        "n = int(input())\n",
        "\n",
        "for i in range(1, n + 1):\n",
        "    left = ''.join(map(str, range(1, i)))\n",
        "    spaces = ' ' * (n - i)\n",
        "    print(f'{spaces}{left}{i}{left[::-1]}')"
      ],
      "id": "6b038f87",
      "execution_count": 42,
      "outputs": [
        {
          "output_type": "stream",
          "name": "stdout",
          "text": [
            "10\n",
            "         1\n",
            "        121\n",
            "       12321\n",
            "      1234321\n",
            "     123454321\n",
            "    12345654321\n",
            "   1234567654321\n",
            "  123456787654321\n",
            " 12345678987654321\n",
            "12345678910987654321\n"
          ]
        }
      ]
    },
    {
      "cell_type": "markdown",
      "metadata": {
        "id": "b4552ef5"
      },
      "source": [
        "\n",
        "### Задание 5\n",
        "\n",
        "Напишите программу, в которой задается натуральное число n и выводится ромб из `n*2-1` ступенек, i-я ступень должна состоять из чисел от 1 до i и обратно без пробелов."
      ],
      "id": "b4552ef5"
    },
    {
      "cell_type": "code",
      "metadata": {
        "colab": {
          "base_uri": "https://localhost:8080/"
        },
        "id": "5eaae897",
        "outputId": "76d01d14-5c00-40a2-abbb-902c1d19cf3d"
      },
      "source": [
        "n = int(input())\n",
        "\n",
        "for i in range(1, n + 1):\n",
        "    left = ''.join(map(str, range(1, i)))\n",
        "    spaces = ' ' * (n - i)\n",
        "    print(f'{spaces}{left}{i}{left[::-1]}')\n",
        "for i in range(n-1,1,-1):\n",
        "    left = ''.join(map(str, range(1, i)))\n",
        "    spaces = ' ' * (n - i)\n",
        "    print(f'{spaces}{left}{i}{left[::-1]}')\n"
      ],
      "id": "5eaae897",
      "execution_count": 46,
      "outputs": [
        {
          "output_type": "stream",
          "name": "stdout",
          "text": [
            "10\n",
            "         1\n",
            "        121\n",
            "       12321\n",
            "      1234321\n",
            "     123454321\n",
            "    12345654321\n",
            "   1234567654321\n",
            "  123456787654321\n",
            " 12345678987654321\n",
            "12345678910987654321\n",
            " 12345678987654321\n",
            "  123456787654321\n",
            "   1234567654321\n",
            "    12345654321\n",
            "     123454321\n",
            "      1234321\n",
            "       12321\n",
            "        121\n"
          ]
        }
      ]
    },
    {
      "cell_type": "code",
      "metadata": {
        "id": "2W8puLEj0h9d"
      },
      "source": [
        ""
      ],
      "id": "2W8puLEj0h9d",
      "execution_count": null,
      "outputs": []
    }
  ]
}